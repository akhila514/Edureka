{
 "cells": [
  {
   "cell_type": "code",
   "execution_count": 9,
   "metadata": {},
   "outputs": [
    {
     "name": "stdout",
     "output_type": "stream",
     "text": [
      "Please enter a number to find out the factor : 10\n",
      "Odd 1\n",
      "Even 2\n",
      "Odd 5\n",
      "Even 10\n"
     ]
    }
   ],
   "source": [
    "#Factors of a given number\n",
    "n = int(input(\"Please enter a number to find out the factor : \"))\n",
    "i = 1\n",
    "for i in range(i,n+1):\n",
    "    if n%i == 0:\n",
    "        if(i%2) == 0:\n",
    "            print(\"Even\" ,i)\n",
    "        else:\n",
    "            print(\"Odd\",i)"
   ]
  },
  {
   "cell_type": "code",
   "execution_count": 13,
   "metadata": {},
   "outputs": [
    {
     "name": "stdout",
     "output_type": "stream",
     "text": [
      "Please enter sequence of words : Hi, Welcome to Jupyter Note book\n",
      "Hi,\n",
      "Jupyter\n",
      "Note\n",
      "Welcome\n",
      "book\n",
      "to\n"
     ]
    }
   ],
   "source": [
    "#sort the Sequence of words\n",
    "seq = input(\"Please enter sequence of words : \")\n",
    "words = seq.split()\n",
    "words.sort()\n",
    "for word in words:\n",
    "    print(word)"
   ]
  },
  {
   "cell_type": "code",
   "execution_count": 19,
   "metadata": {},
   "outputs": [
    {
     "name": "stdout",
     "output_type": "stream",
     "text": [
      "2000,2002,2004,2006,2008,2020,2022,2024,2026,2028,2040,2042,2044,2046,2048,2060,2062,2064,2066,2068,2080,2082,2084,2086,2088,2200,2202,2204,2206,2208,2220,2222,2224,2226,2228,2240,2242,2244,2246,2248,2260,2262,2264,2266,2268,2280,2282,2284,2286,2288,2400,2402,2404,2406,2408,2420,2422,2424,2426,2428,2440,2442,2444,2446,2448,2460,2462,2464,2466,2468,2480,2482,2484,2486,2488,2600,2602,2604,2606,2608,2620,2622,2624,2626,2628,2640,2642,2644,2646,2648,2660,2662,2664,2666,2668,2680,2682,2684,2686,2688,2800,2802,2804,2806,2808,2820,2822,2824,2826,2828,2840,2842,2844,2846,2848,2860,2862,2864,2866,2868,2880,2882,2884,2886,2888\n"
     ]
    }
   ],
   "source": [
    "#printing the each digit of even number\n",
    "num_list = []\n",
    "for num in range(1000,3001):\n",
    "    num1 = str(num)\n",
    "    if( (int(num1[0])%2 == 0)  & (int(num1[1])%2 == 0) & (int(num1[2])%2 == 0) & (int(num1[3])%2 == 0)):\n",
    "        num_list.append(num1)\n",
    "print(\",\".join(num_list))\n",
    "        "
   ]
  },
  {
   "cell_type": "code",
   "execution_count": 23,
   "metadata": {},
   "outputs": [
    {
     "name": "stdout",
     "output_type": "stream",
     "text": [
      "Please enter the stringSharePoint2019\n",
      "Letters in the given input are :  10\n",
      "Digits in the given input are :  4\n"
     ]
    }
   ],
   "source": [
    "#Count the number of letters and digits\n",
    "string = input(\"Please enter the string\")\n",
    "d_count =0\n",
    "l_count = 0\n",
    "for char in string:\n",
    "    if char.isdigit():\n",
    "        d_count+= 1\n",
    "    elif char.isalpha():\n",
    "        l_count+= 1\n",
    "    else:\n",
    "        pass\n",
    "print(\"Letters in the given input are : \" , l_count)\n",
    "print(\"Digits in the given input are : \" , d_count)\n",
    "\n",
    "    \n",
    "    \n"
   ]
  },
  {
   "cell_type": "code",
   "execution_count": 33,
   "metadata": {},
   "outputs": [
    {
     "name": "stdout",
     "output_type": "stream",
     "text": [
      "Please enter a number123456\n",
      "123456 is not a palindrome\n"
     ]
    }
   ],
   "source": [
    "\n",
    "#Chceking whether a given number is palindrome or not\n",
    "num = int(input(\"Please enter a number\"))\n",
    "pnum = str(num)\n",
    "if pnum == pnum[::-1]:\n",
    "    print(\"palindrome : \", num)\n",
    "else:\n",
    "    print(pnum + \" is not a palindrome\")"
   ]
  },
  {
   "cell_type": "code",
   "execution_count": null,
   "metadata": {},
   "outputs": [],
   "source": []
  }
 ],
 "metadata": {
  "kernelspec": {
   "display_name": "Python 3",
   "language": "python",
   "name": "python3"
  },
  "language_info": {
   "codemirror_mode": {
    "name": "ipython",
    "version": 3
   },
   "file_extension": ".py",
   "mimetype": "text/x-python",
   "name": "python",
   "nbconvert_exporter": "python",
   "pygments_lexer": "ipython3",
   "version": "3.7.3"
  }
 },
 "nbformat": 4,
 "nbformat_minor": 2
}
